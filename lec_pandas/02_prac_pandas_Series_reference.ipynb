{
 "cells": [
  {
   "cell_type": "code",
   "execution_count": 1,
   "id": "056ac8c4-50a6-4365-a160-7f59ad79a180",
   "metadata": {},
   "outputs": [],
   "source": [
    "import pandas as pd"
   ]
  },
  {
   "cell_type": "code",
   "execution_count": 2,
   "id": "65eadc7c-2f0e-472c-833e-6044aca12757",
   "metadata": {},
   "outputs": [
    {
     "data": {
      "text/plain": [
       "apple     7\n",
       "banana    8\n",
       "orange    9\n",
       "dtype: int64"
      ]
     },
     "execution_count": 2,
     "metadata": {},
     "output_type": "execute_result"
    }
   ],
   "source": [
    "a_dic={'apple':7 , 'banana':8 , 'orange':9}\n",
    "s5=pd.Series(a_dic)\n",
    "\n",
    "s5"
   ]
  },
  {
   "cell_type": "code",
   "execution_count": 4,
   "id": "b959a9fe-5483-488d-b66f-593f275223c0",
   "metadata": {},
   "outputs": [
    {
     "data": {
      "text/plain": [
       "7"
      ]
     },
     "execution_count": 4,
     "metadata": {},
     "output_type": "execute_result"
    }
   ],
   "source": [
    "s5['apple']"
   ]
  },
  {
   "cell_type": "code",
   "execution_count": 6,
   "id": "6efe3a81-e512-464f-b0cf-a7981ada595b",
   "metadata": {},
   "outputs": [
    {
     "data": {
      "text/plain": [
       "7"
      ]
     },
     "execution_count": 6,
     "metadata": {},
     "output_type": "execute_result"
    }
   ],
   "source": [
    "s5[0]"
   ]
  },
  {
   "cell_type": "code",
   "execution_count": 7,
   "id": "ba551ac5-06a3-4d4b-b301-b118d60a25b9",
   "metadata": {},
   "outputs": [
    {
     "data": {
      "text/plain": [
       "apple     7\n",
       "banana    8\n",
       "orange    9\n",
       "dtype: int64"
      ]
     },
     "execution_count": 7,
     "metadata": {},
     "output_type": "execute_result"
    }
   ],
   "source": [
    "s5['apple':'orange']"
   ]
  },
  {
   "cell_type": "code",
   "execution_count": 8,
   "id": "92a90cb2-20f3-43eb-8621-2f543315e49f",
   "metadata": {},
   "outputs": [
    {
     "data": {
      "text/plain": [
       "apple     7\n",
       "banana    8\n",
       "orange    9\n",
       "dtype: int64"
      ]
     },
     "execution_count": 8,
     "metadata": {},
     "output_type": "execute_result"
    }
   ],
   "source": [
    "s5[0:3]"
   ]
  },
  {
   "cell_type": "code",
   "execution_count": 9,
   "id": "fe2e8f3f-4b23-4d9a-9a0a-390c46ab2bf2",
   "metadata": {},
   "outputs": [
    {
     "data": {
      "text/plain": [
       "array([7, 8, 9], dtype=int64)"
      ]
     },
     "execution_count": 9,
     "metadata": {},
     "output_type": "execute_result"
    }
   ],
   "source": [
    "s5.values"
   ]
  },
  {
   "cell_type": "code",
   "execution_count": 10,
   "id": "716e8dcd-47ff-4754-aa14-2e323b41ccdd",
   "metadata": {},
   "outputs": [
    {
     "data": {
      "text/plain": [
       "Index(['apple', 'banana', 'orange'], dtype='object')"
      ]
     },
     "execution_count": 10,
     "metadata": {},
     "output_type": "execute_result"
    }
   ],
   "source": [
    "s5.index"
   ]
  },
  {
   "cell_type": "code",
   "execution_count": 11,
   "id": "5d8d7a99-6c1f-4a78-8199-9fc788e8fcec",
   "metadata": {},
   "outputs": [
    {
     "data": {
      "text/plain": [
       "['apple', 'banana', 'orange']"
      ]
     },
     "execution_count": 11,
     "metadata": {},
     "output_type": "execute_result"
    }
   ],
   "source": [
    "list(s5.index)"
   ]
  },
  {
   "cell_type": "code",
   "execution_count": 12,
   "id": "136e1927-5405-4274-97fe-761a88071bd2",
   "metadata": {},
   "outputs": [
    {
     "data": {
      "text/plain": [
       "banana    8\n",
       "orange    9\n",
       "dtype: int64"
      ]
     },
     "execution_count": 12,
     "metadata": {},
     "output_type": "execute_result"
    }
   ],
   "source": [
    "s5[s5>7]"
   ]
  },
  {
   "cell_type": "code",
   "execution_count": 13,
   "id": "cf8b1d54-8707-4d4e-9bf1-50fc778351d0",
   "metadata": {},
   "outputs": [
    {
     "data": {
      "text/plain": [
       "apple     False\n",
       "banana     True\n",
       "orange     True\n",
       "dtype: bool"
      ]
     },
     "execution_count": 13,
     "metadata": {},
     "output_type": "execute_result"
    }
   ],
   "source": [
    "s5>7"
   ]
  },
  {
   "cell_type": "code",
   "execution_count": null,
   "id": "d01b6426-df46-4569-af0f-a8bf09bad299",
   "metadata": {},
   "outputs": [],
   "source": []
  }
 ],
 "metadata": {
  "kernelspec": {
   "display_name": "Python 3 (ipykernel)",
   "language": "python",
   "name": "python3"
  },
  "language_info": {
   "codemirror_mode": {
    "name": "ipython",
    "version": 3
   },
   "file_extension": ".py",
   "mimetype": "text/x-python",
   "name": "python",
   "nbconvert_exporter": "python",
   "pygments_lexer": "ipython3",
   "version": "3.8.12"
  }
 },
 "nbformat": 4,
 "nbformat_minor": 5
}
