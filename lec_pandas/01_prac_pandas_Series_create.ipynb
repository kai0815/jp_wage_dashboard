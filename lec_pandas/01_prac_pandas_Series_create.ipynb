{
 "cells": [
  {
   "cell_type": "code",
   "execution_count": 1,
   "id": "b7f62109-9b13-43bc-a827-1231f5fd1d5a",
   "metadata": {},
   "outputs": [],
   "source": [
    "import pandas as pd"
   ]
  },
  {
   "cell_type": "code",
   "execution_count": 2,
   "id": "8e8e19b2-3a3e-4c8e-9dc7-c5c3ce8bf93d",
   "metadata": {},
   "outputs": [
    {
     "name": "stdout",
     "output_type": "stream",
     "text": [
      "0    7\n",
      "1    8\n",
      "2    9\n",
      "dtype: int64\n"
     ]
    }
   ],
   "source": [
    "a_list= [7,8,9]\n",
    "\n",
    "s1=pd.Series(a_list)\n",
    "\n",
    "print(s1)"
   ]
  },
  {
   "cell_type": "code",
   "execution_count": 3,
   "id": "e55ace52-dd16-417e-be95-50847a7cd882",
   "metadata": {},
   "outputs": [
    {
     "name": "stdout",
     "output_type": "stream",
     "text": [
      "0    7.0\n",
      "1    8.0\n",
      "2    9.0\n",
      "dtype: float64\n"
     ]
    }
   ],
   "source": [
    "a_list= [7,8,9]\n",
    "\n",
    "s1=pd.Series(a_list,dtype=float)\n",
    "\n",
    "print(s1)"
   ]
  },
  {
   "cell_type": "code",
   "execution_count": 4,
   "id": "d057a695-56b3-4587-8c55-5db6aba3ae2a",
   "metadata": {},
   "outputs": [
    {
     "name": "stdout",
     "output_type": "stream",
     "text": [
      "0     apple\n",
      "1    banana\n",
      "2    orange\n",
      "dtype: object\n"
     ]
    }
   ],
   "source": [
    "a_arr=['apple','banana','orange']\n",
    "s2=pd.Series(a_arr)\n",
    "print(s2)"
   ]
  },
  {
   "cell_type": "code",
   "execution_count": 5,
   "id": "420b5088-8bb9-4ffe-93b5-6813fc5a20f8",
   "metadata": {},
   "outputs": [
    {
     "name": "stdout",
     "output_type": "stream",
     "text": [
      "apple     7\n",
      "banana    8\n",
      "orange    9\n",
      "dtype: int64\n"
     ]
    }
   ],
   "source": [
    "var= [7,8,9]\n",
    "name=['apple','banana','orange']\n",
    "s4=pd.Series(var,index=name)\n",
    "print(s4)"
   ]
  },
  {
   "cell_type": "code",
   "execution_count": 6,
   "id": "4da79eb5-36c7-4f64-996d-0bbfbd2ff1ca",
   "metadata": {},
   "outputs": [
    {
     "name": "stdout",
     "output_type": "stream",
     "text": [
      "apple     7\n",
      "banana    8\n",
      "orange    9\n",
      "dtype: int64\n"
     ]
    }
   ],
   "source": [
    "a_dic={'apple':7 , 'banana':8 , 'orange':9}\n",
    "s5=pd.Series(a_dic)\n",
    "print(s5)"
   ]
  },
  {
   "cell_type": "code",
   "execution_count": 8,
   "id": "cbac1025-0608-426e-8753-bd1b018c503a",
   "metadata": {},
   "outputs": [
    {
     "name": "stdout",
     "output_type": "stream",
     "text": [
      "apple     7.0\n",
      "banana    8.0\n",
      "orange    9.0\n",
      "cherry    NaN\n",
      "dtype: float64\n"
     ]
    }
   ],
   "source": [
    "a_dic2={'apple':7 , 'banana':8 , 'orange':9}\n",
    "name=['apple','banana','orange','cherry']\n",
    "\n",
    "s6=pd.Series(a_dic2,name)\n",
    "print(s6)"
   ]
  },
  {
   "cell_type": "code",
   "execution_count": null,
   "id": "181ebb61-bb6a-4499-8e1e-bdac1668d949",
   "metadata": {},
   "outputs": [],
   "source": []
  }
 ],
 "metadata": {
  "kernelspec": {
   "display_name": "Python 3 (ipykernel)",
   "language": "python",
   "name": "python3"
  },
  "language_info": {
   "codemirror_mode": {
    "name": "ipython",
    "version": 3
   },
   "file_extension": ".py",
   "mimetype": "text/x-python",
   "name": "python",
   "nbconvert_exporter": "python",
   "pygments_lexer": "ipython3",
   "version": "3.8.12"
  }
 },
 "nbformat": 4,
 "nbformat_minor": 5
}
