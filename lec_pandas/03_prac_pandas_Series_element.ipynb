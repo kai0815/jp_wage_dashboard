{
 "cells": [
  {
   "cell_type": "code",
   "execution_count": 1,
   "id": "0ef6299b-d7b8-4ff8-9fc5-3d8eff198908",
   "metadata": {},
   "outputs": [],
   "source": [
    "import pandas as pd"
   ]
  },
  {
   "cell_type": "code",
   "execution_count": 2,
   "id": "11fc7015-7f16-40f7-bc81-18c92ee9049a",
   "metadata": {},
   "outputs": [
    {
     "data": {
      "text/plain": [
       "apple     7\n",
       "banana    8\n",
       "orange    9\n",
       "dtype: int64"
      ]
     },
     "execution_count": 2,
     "metadata": {},
     "output_type": "execute_result"
    }
   ],
   "source": [
    "a_dic={'apple':7 , 'banana':8 , 'orange':9}\n",
    "s5=pd.Series(a_dic)\n",
    "\n",
    "s5"
   ]
  },
  {
   "cell_type": "code",
   "execution_count": 4,
   "id": "97b3cadf-b5bb-4e8a-aee7-6fe04b13fba2",
   "metadata": {},
   "outputs": [
    {
     "data": {
      "text/plain": [
       "apple     100\n",
       "banana      8\n",
       "orange      9\n",
       "dtype: int64"
      ]
     },
     "execution_count": 4,
     "metadata": {},
     "output_type": "execute_result"
    }
   ],
   "source": [
    "s5['apple']=100\n",
    "s5"
   ]
  },
  {
   "cell_type": "code",
   "execution_count": 6,
   "id": "adab5662-0b23-4c3c-8900-19eed48cac39",
   "metadata": {},
   "outputs": [
    {
     "data": {
      "text/plain": [
       "apple     100\n",
       "banana    200\n",
       "orange    200\n",
       "dtype: int64"
      ]
     },
     "execution_count": 6,
     "metadata": {},
     "output_type": "execute_result"
    }
   ],
   "source": [
    "s5[1:3]=200\n",
    "s5"
   ]
  },
  {
   "cell_type": "code",
   "execution_count": 8,
   "id": "16f822b2-3b5b-432b-8d4f-0f39a70ec0e5",
   "metadata": {},
   "outputs": [],
   "source": [
    "a_list=[7,8,9]\n",
    "b_list=[10,11]\n",
    "s7=pd.Series(a_list)\n",
    "s8=pd.Series(b_list)"
   ]
  },
  {
   "cell_type": "code",
   "execution_count": 10,
   "id": "b14faca1-5915-4ce8-84ed-e066a38dd563",
   "metadata": {},
   "outputs": [
    {
     "data": {
      "text/plain": [
       "0    7\n",
       "1    8\n",
       "2    9\n",
       "dtype: int64"
      ]
     },
     "execution_count": 10,
     "metadata": {},
     "output_type": "execute_result"
    }
   ],
   "source": [
    "s7"
   ]
  },
  {
   "cell_type": "code",
   "execution_count": 11,
   "id": "4e915192-88f5-48f8-9368-f437a0917912",
   "metadata": {},
   "outputs": [
    {
     "data": {
      "text/plain": [
       "0    10\n",
       "1    11\n",
       "dtype: int64"
      ]
     },
     "execution_count": 11,
     "metadata": {},
     "output_type": "execute_result"
    }
   ],
   "source": [
    "s8"
   ]
  },
  {
   "cell_type": "code",
   "execution_count": 13,
   "id": "bf2604b0-55c7-4a70-a4a4-1ff9ec9aec32",
   "metadata": {},
   "outputs": [
    {
     "name": "stderr",
     "output_type": "stream",
     "text": [
      "C:\\Users\\kai08\\AppData\\Local\\Temp/ipykernel_33516/2536349689.py:1: FutureWarning: The series.append method is deprecated and will be removed from pandas in a future version. Use pandas.concat instead.\n",
      "  s7.append(s8,ignore_index=True)\n"
     ]
    },
    {
     "data": {
      "text/plain": [
       "0     7\n",
       "1     8\n",
       "2     9\n",
       "3    10\n",
       "4    11\n",
       "dtype: int64"
      ]
     },
     "execution_count": 13,
     "metadata": {},
     "output_type": "execute_result"
    }
   ],
   "source": [
    "s7.append(s8,ignore_index=True)"
   ]
  },
  {
   "cell_type": "code",
   "execution_count": 14,
   "id": "4e5e75f5-0d44-4238-b4b4-263411e69602",
   "metadata": {},
   "outputs": [
    {
     "data": {
      "text/plain": [
       "apple     7\n",
       "banana    8\n",
       "orange    9\n",
       "dtype: int64"
      ]
     },
     "execution_count": 14,
     "metadata": {},
     "output_type": "execute_result"
    }
   ],
   "source": [
    "a_dic={'apple':7 , 'banana':8 , 'orange':9}\n",
    "s9=pd.Series(a_dic)\n",
    "s9"
   ]
  },
  {
   "cell_type": "code",
   "execution_count": 17,
   "id": "326cd259-ba8b-4a62-a4f1-710b977cdb95",
   "metadata": {},
   "outputs": [],
   "source": [
    "s9.drop(index='banana',inplace=True)"
   ]
  },
  {
   "cell_type": "code",
   "execution_count": 18,
   "id": "94e10acb-864e-4d51-a311-a6cbf4a75c7c",
   "metadata": {},
   "outputs": [
    {
     "data": {
      "text/plain": [
       "apple     7\n",
       "orange    9\n",
       "dtype: int64"
      ]
     },
     "execution_count": 18,
     "metadata": {},
     "output_type": "execute_result"
    }
   ],
   "source": [
    "s9"
   ]
  },
  {
   "cell_type": "code",
   "execution_count": null,
   "id": "ad2d150f-3ec3-4755-b9fe-9815784c6dda",
   "metadata": {},
   "outputs": [],
   "source": []
  }
 ],
 "metadata": {
  "kernelspec": {
   "display_name": "Python 3 (ipykernel)",
   "language": "python",
   "name": "python3"
  },
  "language_info": {
   "codemirror_mode": {
    "name": "ipython",
    "version": 3
   },
   "file_extension": ".py",
   "mimetype": "text/x-python",
   "name": "python",
   "nbconvert_exporter": "python",
   "pygments_lexer": "ipython3",
   "version": "3.8.12"
  }
 },
 "nbformat": 4,
 "nbformat_minor": 5
}
